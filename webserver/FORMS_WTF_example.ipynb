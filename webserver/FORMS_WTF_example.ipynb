{
 "cells": [
  {
   "cell_type": "code",
   "execution_count": null,
   "id": "6095edff-c13e-4087-ab7c-e8cd46fc7b68",
   "metadata": {},
   "outputs": [],
   "source": []
  },
  {
   "cell_type": "code",
   "execution_count": null,
   "id": "cd86c493-5546-4e7d-81cf-07a0ce11367b",
   "metadata": {},
   "outputs": [],
   "source": []
  },
  {
   "cell_type": "markdown",
   "id": "f9a6d396-ec37-48b7-92d3-29728f635654",
   "metadata": {},
   "source": [
    "Getting Started\n",
    "\n",
    "Let’s get right down to business and define our first form:"
   ]
  },
  {
   "cell_type": "code",
   "execution_count": 1,
   "id": "707bbe4a-46c1-4b6f-9b36-147c5d6089c5",
   "metadata": {},
   "outputs": [],
   "source": [
    "from wtforms import Form, BooleanField, StringField, validators,DateTimeField,TextAreaField,IntegerField,DecimalField, PasswordField\n",
    "\n",
    "class RegistrationForm(Form):\n",
    "    username     = StringField('Username', [validators.Length(min=4, max=25)])\n",
    "    email        = StringField('Email Address', [validators.Length(min=6, max=35)])\n",
    "    accept_rules = BooleanField('I accept the site rules', [validators.InputRequired()])"
   ]
  },
  {
   "cell_type": "markdown",
   "id": "48822e10-7b9b-4ab6-8b72-ace9fc95a731",
   "metadata": {
    "tags": []
   },
   "source": [
    "When you create a form, you define the fields in a way that is similar to the way many ORM’s have you define their columns: By defining class variables which are instantiations of the fields.  Because forms are regular Python classes, you can easily extend them as you would expect:\n"
   ]
  },
  {
   "cell_type": "code",
   "execution_count": 2,
   "id": "26e0a42c-7a30-4687-8446-8d136f288ded",
   "metadata": {},
   "outputs": [],
   "source": [
    "class ProfileForm(Form):\n",
    "    birthday  = DateTimeField('Your Birthday', format='%m/%d/%y')\n",
    "    signature = TextAreaField('Forum Signature')\n",
    "\n",
    "class AdminProfileForm(ProfileForm):\n",
    "    username = StringField('Username', [validators.Length(max=40)])\n",
    "    level    = IntegerField('User Level', [validators.NumberRange(min=0, max=10)])"
   ]
  },
  {
   "cell_type": "markdown",
   "id": "8fc39765-f17e-49ef-a108-63d7221a9ed9",
   "metadata": {},
   "source": [
    "Via subclassing, AdminProfileForm gains all the fields already defined in ProfileForm. This allows you to easily share common subsets of fields between forms, such as the example above, where we are adding admin-only fields to ProfileForm.\n",
    "Using Forms\n",
    "\n",
    "Using a form is as simple as instantiating it. Consider the following django-like view, using the RegistrationForm we defined earlier:"
   ]
  },
  {
   "cell_type": "code",
   "execution_count": 3,
   "id": "05c56700-5f23-4924-b278-700ab7955eec",
   "metadata": {},
   "outputs": [],
   "source": [
    "def register(request):\n",
    "    form = RegistrationForm(request.POST)\n",
    "    if request.method == 'POST' and form.validate():\n",
    "        user = User()\n",
    "        user.username = form.username.data\n",
    "        user.email = form.email.data\n",
    "        user.save()\n",
    "        redirect('register')\n",
    "    return render_response('register.html', form=form)"
   ]
  },
  {
   "cell_type": "markdown",
   "id": "5346dd89-53a8-40e2-a58b-5fd7e1208f4f",
   "metadata": {},
   "source": [
    "First, we instantiate the form, providing it with any data available in request.POST. We then check if the request is made using POST, and if it is, we validate the form, and check that the user accepted the rules. If successful, we create a new User and assign the data from the validated form to it, and save it.\n",
    "Editing existing objects\n",
    "\n",
    "Our earlier registration example showed how to accept input and validate it for new entries, but what if we want to edit an existing object? Easy:"
   ]
  },
  {
   "cell_type": "code",
   "execution_count": 4,
   "id": "22582e2e-9d84-45db-9ba7-45f68cfd4e0e",
   "metadata": {},
   "outputs": [],
   "source": [
    "def edit_profile(request):\n",
    "    user = request.current_user\n",
    "    form = ProfileForm(request.POST, user)\n",
    "    if request.method == 'POST' and form.validate():\n",
    "        form.populate_obj(user)\n",
    "        user.save()\n",
    "        redirect('edit_profile')\n",
    "    return render_response('edit_profile.html', form=form)"
   ]
  },
  {
   "cell_type": "markdown",
   "id": "c3847e21-0b3b-48d9-a382-0353bdc81cf3",
   "metadata": {},
   "source": [
    "Here, we instantiate the form by providing both request.POST and the user object to the form. By doing this, the form will get any data that isn’t present in the post data from the user object.\n",
    "\n",
    "We’re also using the form’s populate_obj method to re-populate the user object with the contents of the validated form. This method is provided for convenience, for use when the field names match the names on the object you’re providing with data. Typically, you will want to assign the values manually, but for this simple case it’s perfect. It can also be useful for CRUD and admin forms.\n",
    "Exploring in the console\n",
    "\n",
    "WTForms forms are very simple container objects, and perhaps the easiest way to find out what’s available to you in a form is to play around with a form in the console:"
   ]
  },
  {
   "cell_type": "code",
   "execution_count": 5,
   "id": "cfe2fc8f-c3f9-4fd6-902d-a9601c887fd1",
   "metadata": {},
   "outputs": [],
   "source": [
    "from wtforms import Form, StringField, validators\n",
    "\n",
    "class UsernameForm(Form):\n",
    "\n",
    "    username = StringField('Username', [validators.Length(min=5)], default='test')"
   ]
  },
  {
   "cell_type": "code",
   "execution_count": 6,
   "id": "a944a195-8d78-4d86-8a34-ace96de18c89",
   "metadata": {},
   "outputs": [],
   "source": [
    "form = UsernameForm()"
   ]
  },
  {
   "cell_type": "markdown",
   "id": "d84a2786-591e-4315-94bf-4a3e6dc89ffa",
   "metadata": {},
   "source": [
    "form['username']\n",
    "<wtforms.fields.core.StringField object at ...>\n",
    "\n",
    "form.username.data\n",
    "'test'\n",
    "\n",
    "form.validate()\n",
    "False\n",
    "\n",
    "form.errors"
   ]
  },
  {
   "cell_type": "code",
   "execution_count": 7,
   "id": "485512ed-a0e2-40b4-9322-3189c2db1e01",
   "metadata": {},
   "outputs": [
    {
     "data": {
      "text/plain": [
       "{'username': ['Field must be at least 5 characters long.']}"
      ]
     },
     "execution_count": 7,
     "metadata": {},
     "output_type": "execute_result"
    }
   ],
   "source": [
    "{'username': ['Field must be at least 5 characters long.']}"
   ]
  },
  {
   "cell_type": "code",
   "execution_count": null,
   "id": "e4298311-3a7d-4919-b036-3ca5e2f6b41f",
   "metadata": {},
   "outputs": [],
   "source": []
  },
  {
   "cell_type": "markdown",
   "id": "35cca5a9-ea49-403a-99a8-e386f831757c",
   "metadata": {},
   "source": [
    "What we’ve found here is that when you instantiate a form, it contains instances of all the fields, which can be accessed via either dictionary-style or attribute-style. These fields have their own properties, as does the enclosing form.\n",
    "\n",
    "When we validate the form, it returns False, meaning at least one validator was not satisfied. form.errors will give you a summary of all the errors."
   ]
  },
  {
   "cell_type": "code",
   "execution_count": 8,
   "id": "e49da865-b7b1-4847-b24f-2516b0d66cb3",
   "metadata": {},
   "outputs": [
    {
     "data": {
      "text/plain": [
       "True"
      ]
     },
     "execution_count": 8,
     "metadata": {},
     "output_type": "execute_result"
    }
   ],
   "source": [
    "form2 = UsernameForm(username='Robert')\n",
    "\n",
    "form2.data\n",
    "form2.validate()"
   ]
  },
  {
   "cell_type": "markdown",
   "id": "bd477cd0-f5c1-4513-8497-aec0c99642aa",
   "metadata": {},
   "source": [
    "{'username': 'Robert'}\n",
    "\n",
    "\n",
    "True\n",
    "\n",
    "This time, we passed a new value for username when instantiating UserForm, and it was sufficient to validate the form.\n",
    "How Forms get data\n",
    "\n",
    "In addition to providing data using the first two arguments (formdata and obj), you can pass keyword arguments to populate the form. Note though that a few names are reserved: formdata, obj, and prefix.\n",
    "\n",
    "formdata takes precendence over obj, which itself takes precedence over keyword arguments. For example:"
   ]
  },
  {
   "cell_type": "code",
   "execution_count": 9,
   "id": "20fc3f96-308d-4cda-8137-9c043707b6ed",
   "metadata": {},
   "outputs": [],
   "source": [
    "def change_username(request):\n",
    "    user = request.current_user\n",
    "    form = ChangeUsernameForm(request.POST, user, username='silly')\n",
    "    if request.method == 'POST' and form.validate():\n",
    "        user.username = form.username.data\n",
    "        user.save()\n",
    "        return redirect('change_username')\n",
    "    return render_response('change_username.html', form=form)"
   ]
  },
  {
   "cell_type": "markdown",
   "id": "29d879f7-cd33-431c-88d3-11e0f97e3b08",
   "metadata": {},
   "source": [
    "While you almost never use all three methods together in practice, it illustrates how WTForms looks up the username field:\n",
    "\n",
    "    If a form was submitted (request.POST is not empty), process the form input. Even if there was no form input for this field in particular, if there exists form input of any sort, then we will process the form input.\n",
    "\n",
    "    If there was no form input, then try the following in order:\n",
    "\n",
    "        Check if user has an attribute named username.\n",
    "\n",
    "        Check if a keyword argument named username was provided.\n",
    "\n",
    "        Finally, if everything else fails, use the default value provided by the field, if any.\n",
    "\n",
    "Validators\n",
    "\n",
    "Validation in WTForms is done by providing a field with a set of validators to run when the containing form is validated. You provide these via the field constructor’s second argument, validators:"
   ]
  },
  {
   "cell_type": "code",
   "execution_count": 10,
   "id": "93599174-5121-457c-8323-d931031ad4a2",
   "metadata": {},
   "outputs": [],
   "source": [
    "class ChangeEmailForm(Form):\n",
    "    email = StringField('Email', [validators.Length(min=6, max=120), validators.Email()])"
   ]
  },
  {
   "cell_type": "markdown",
   "id": "b03f1051-3f41-4213-883b-92c287539c59",
   "metadata": {},
   "source": [
    "You can provide any number of validators to a field. Typically, you will want to provide a custom error message:"
   ]
  },
  {
   "cell_type": "code",
   "execution_count": 11,
   "id": "a9455400-5389-489b-a44c-0dad2da5483e",
   "metadata": {},
   "outputs": [
    {
     "ename": "TypeError",
     "evalue": "'bool' object is not callable",
     "output_type": "error",
     "traceback": [
      "\u001b[0;31m---------------------------------------------------------------------------\u001b[0m",
      "\u001b[0;31mTypeError\u001b[0m                                 Traceback (most recent call last)",
      "Input \u001b[0;32mIn [11]\u001b[0m, in \u001b[0;36m<cell line: 1>\u001b[0;34m()\u001b[0m\n\u001b[0;32m----> 1\u001b[0m \u001b[38;5;28;01mclass\u001b[39;00m \u001b[38;5;21;01mChangeEmailForm\u001b[39;00m(Form):\n\u001b[1;32m      2\u001b[0m     email \u001b[38;5;241m=\u001b[39m StringField(\u001b[38;5;124m'\u001b[39m\u001b[38;5;124mEmail\u001b[39m\u001b[38;5;124m'\u001b[39m, [\n\u001b[1;32m      3\u001b[0m         validators\u001b[38;5;241m.\u001b[39mLength(\u001b[38;5;28mmin\u001b[39m\u001b[38;5;241m=\u001b[39m\u001b[38;5;241m6\u001b[39m, message\u001b[38;5;241m=\u001b[39m_(\u001b[38;5;124m'\u001b[39m\u001b[38;5;124mLittle short for an email address?\u001b[39m\u001b[38;5;124m'\u001b[39m)),\n\u001b[1;32m      4\u001b[0m         validators\u001b[38;5;241m.\u001b[39mEmail(message\u001b[38;5;241m=\u001b[39m_(\u001b[38;5;124m'\u001b[39m\u001b[38;5;124mThat\u001b[39m\u001b[38;5;130;01m\\'\u001b[39;00m\u001b[38;5;124ms not a valid email address.\u001b[39m\u001b[38;5;124m'\u001b[39m))\n\u001b[1;32m      5\u001b[0m     ])\n",
      "Input \u001b[0;32mIn [11]\u001b[0m, in \u001b[0;36mChangeEmailForm\u001b[0;34m()\u001b[0m\n\u001b[1;32m      1\u001b[0m \u001b[38;5;28;01mclass\u001b[39;00m \u001b[38;5;21;01mChangeEmailForm\u001b[39;00m(Form):\n\u001b[1;32m      2\u001b[0m     email \u001b[38;5;241m=\u001b[39m StringField(\u001b[38;5;124m'\u001b[39m\u001b[38;5;124mEmail\u001b[39m\u001b[38;5;124m'\u001b[39m, [\n\u001b[0;32m----> 3\u001b[0m         validators\u001b[38;5;241m.\u001b[39mLength(\u001b[38;5;28mmin\u001b[39m\u001b[38;5;241m=\u001b[39m\u001b[38;5;241m6\u001b[39m, message\u001b[38;5;241m=\u001b[39m\u001b[43m_\u001b[49m\u001b[43m(\u001b[49m\u001b[38;5;124;43m'\u001b[39;49m\u001b[38;5;124;43mLittle short for an email address?\u001b[39;49m\u001b[38;5;124;43m'\u001b[39;49m\u001b[43m)\u001b[49m),\n\u001b[1;32m      4\u001b[0m         validators\u001b[38;5;241m.\u001b[39mEmail(message\u001b[38;5;241m=\u001b[39m_(\u001b[38;5;124m'\u001b[39m\u001b[38;5;124mThat\u001b[39m\u001b[38;5;130;01m\\'\u001b[39;00m\u001b[38;5;124ms not a valid email address.\u001b[39m\u001b[38;5;124m'\u001b[39m))\n\u001b[1;32m      5\u001b[0m     ])\n",
      "\u001b[0;31mTypeError\u001b[0m: 'bool' object is not callable"
     ]
    }
   ],
   "source": [
    "class ChangeEmailForm(Form):\n",
    "    email = StringField('Email', [\n",
    "        validators.Length(min=6, message=_('Little short for an email address?')),\n",
    "        validators.Email(message=_('That\\'s not a valid email address.'))\n",
    "    ])"
   ]
  },
  {
   "cell_type": "markdown",
   "id": "b3fa1914-5e38-4ab2-bb5f-9c7f90c42802",
   "metadata": {},
   "source": [
    "It is generally preferable to provide your own messages, as the default messages by necessity are generic. This is also the way to provide localised error messages.\n",
    "\n",
    "For a list of all the built-in validators, check the Validators Reference\n",
    "Rendering Fields\n",
    "\n",
    "Rendering a field is as simple as coercing it to a string:"
   ]
  },
  {
   "cell_type": "code",
   "execution_count": null,
   "id": "9e4dc68b-f05d-4a80-97ad-c8dc555d3428",
   "metadata": {},
   "outputs": [],
   "source": [
    "from wtforms import Form, StringField\n",
    "\n",
    "class SimpleForm(Form):\n",
    "\n",
    "  content = StringField('content')\n",
    "\n",
    "\n",
    "form = SimpleForm(content='foobar')\n",
    "\n",
    "str(form.content)"
   ]
  },
  {
   "cell_type": "markdown",
   "id": "a5f87112-98fe-4c9e-aa6e-82f868c26148",
   "metadata": {},
   "source": [
    "Markup('<input id=\"content\" name=\"content\" type=\"text\" value=\"foobar\">')"
   ]
  },
  {
   "cell_type": "code",
   "execution_count": null,
   "id": "096e911c-f28f-43fc-9837-58cb044c2094",
   "metadata": {},
   "outputs": [],
   "source": []
  },
  {
   "cell_type": "markdown",
   "id": "c5c3cea9-4245-4a83-b6a5-abe92cfdbd05",
   "metadata": {},
   "source": [
    "However, the real power comes from rendering the field with its __call__() method. By calling the field, you can provide keyword arguments, which will be injected as html attributes in the output:"
   ]
  },
  {
   "cell_type": "code",
   "execution_count": null,
   "id": "357703d1-054f-4a2b-9d77-b4e03227aab4",
   "metadata": {},
   "outputs": [],
   "source": [
    "form.content(style=\"width: 200px;\", class_=\"bar\")"
   ]
  },
  {
   "cell_type": "code",
   "execution_count": null,
   "id": "0fa83a93-11de-47b3-8cd5-3f9a2a4c75db",
   "metadata": {},
   "outputs": [],
   "source": [
    "Markup('<input class=\"bar\" id=\"content\" name=\"content\" style=\"width: 200px;\" type=\"text\" value=\"foobar\">')"
   ]
  },
  {
   "cell_type": "code",
   "execution_count": null,
   "id": "73b58de7-0922-48b8-9e32-57982c48d94f",
   "metadata": {},
   "outputs": [],
   "source": []
  },
  {
   "cell_type": "markdown",
   "id": "1f910fe6-c3c3-4e8f-b7cc-60238568c1d6",
   "metadata": {},
   "source": [
    "Now let’s apply this power to rendering a form in a Jinja template. First, our form:"
   ]
  },
  {
   "cell_type": "code",
   "execution_count": null,
   "id": "6ffd854a-816c-4239-9d09-964c7967734c",
   "metadata": {},
   "outputs": [],
   "source": [
    "class LoginForm(Form):\n",
    "    username = StringField('Username')\n",
    "    password = PasswordField('Password')\n",
    "\n",
    "form = LoginForm()"
   ]
  },
  {
   "cell_type": "markdown",
   "id": "19fd8c1f-ae03-4582-a4a8-cca9312b229d",
   "metadata": {},
   "source": [
    "And the template:"
   ]
  },
  {
   "cell_type": "markdown",
   "id": "3915ef90-620c-4214-97cb-892cdaf39293",
   "metadata": {},
   "source": [
    "<form method=\"POST\" action=\"/login\">\n",
    "    <div>{{ form.username.label }}: {{ form.username(class=\"css_class\") }}</div>\n",
    "    <div>{{ form.password.label }}: {{ form.password() }}</div>\n",
    "</form>"
   ]
  },
  {
   "cell_type": "markdown",
   "id": "5441ac0e-0e47-4b55-8a7e-a02457dbb9dd",
   "metadata": {},
   "source": [
    "Alternately, if you’re using Django templates, you can use the form_field templatetag we provide in our Django extension, when you want to pass keyword arguments:"
   ]
  },
  {
   "cell_type": "markdown",
   "id": "69f5d8fa-1018-4ede-92f3-38bd26f543ed",
   "metadata": {},
   "source": [
    "{% load wtforms %}\n",
    "<form method=\"POST\" action=\"/login\">\n",
    "    <div>\n",
    "        {{ form.username.label }}:\n",
    "        {% form_field form.username class=\"css_class\" %}\n",
    "    </div>\n",
    "    <div>\n",
    "        {{ form.password.label }}:\n",
    "        {{ form.password }}\n",
    "    </div>\n",
    "</form>"
   ]
  },
  {
   "cell_type": "markdown",
   "id": "2a9fc0dc-7195-46bc-be19-60233bce692f",
   "metadata": {},
   "source": [
    "Both of these will output:"
   ]
  },
  {
   "cell_type": "markdown",
   "id": "643adf42-d453-44b9-a94b-8e49b37875e2",
   "metadata": {},
   "source": [
    "<form method=\"POST\" action=\"/login\">\n",
    "    <div>\n",
    "        <label for=\"username\">Username</label>:\n",
    "        <input class=\"css_class\" id=\"username\" name=\"username\" type=\"text\" value=\"\" />\n",
    "    </div>\n",
    "    <div>\n",
    "        <label for=\"password\">Password</label>:\n",
    "        <input id=\"password\" name=\"password\" type=\"password\" value=\"\" />\n",
    "    </div>\n",
    "</form>\n",
    "\n",
    "WTForms is template engine agnostic, and will work with anything that allows attribute access, string coercion, and/or function calls. The form_field templatetag is provided as a convenience as you can’t pass arguments in Django templates.\n",
    "Displaying Errors\n",
    "\n",
    "Now that we have a template for our form, let’s add error messages:\n",
    "\n",
    "<form method=\"POST\" action=\"/login\">\n",
    "    <div>{{ form.username.label }}: {{ form.username(class=\"css_class\") }}</div>\n",
    "    {% if form.username.errors %}\n",
    "        <ul class=\"errors\">{% for error in form.username.errors %}<li>{{ error }}</li>{% endfor %}</ul>\n",
    "    {% endif %}\n",
    "\n",
    "    <div>{{ form.password.label }}: {{ form.password() }}</div>\n",
    "    {% if form.password.errors %}\n",
    "        <ul class=\"errors\">{% for error in form.password.errors %}<li>{{ error }}</li>{% endfor %}</ul>\n",
    "    {% endif %}\n",
    "</form>\n",
    "\n",
    "If you prefer one big list of errors at the top, this is also easy:\n",
    "\n",
    "{% if form.errors %}\n",
    "    <ul class=\"errors\">\n",
    "        {% for field_name, field_errors in form.errors|dictsort if field_errors %}\n",
    "            {% for error in field_errors %}\n",
    "                <li>{{ form[field_name].label }}: {{ error }}</li>\n",
    "            {% endfor %}\n",
    "        {% endfor %}\n",
    "    </ul>\n",
    "{% endif %}\n",
    "\n",
    "As error handling can become a rather verbose affair, it is preferable to use Jinja macros (or equivalent) to reduce boilerplate in your templates. (example)\n",
    "Custom Validators\n",
    "\n",
    "There are two ways to provide custom validators. By defining a custom validator and using it on a field:"
   ]
  },
  {
   "cell_type": "code",
   "execution_count": null,
   "id": "468de546-c263-41fe-a7f5-10e7ba6803e3",
   "metadata": {},
   "outputs": [],
   "source": [
    "from wtforms.validators import ValidationError\n",
    "\n",
    "def is_42(form, field):\n",
    "    if field.data != 42:\n",
    "        raise ValidationError('Must be 42')\n",
    "\n",
    "class FourtyTwoForm(Form):\n",
    "    num = IntegerField('Number', [is_42])"
   ]
  },
  {
   "cell_type": "markdown",
   "id": "262376ee-f6f3-4e9d-a4de-a0bf93abbc8e",
   "metadata": {},
   "source": [
    "Or by providing an in-form field-specific validator:"
   ]
  },
  {
   "cell_type": "code",
   "execution_count": null,
   "id": "a96db898-8e35-4e1a-b304-ba5bcc0a61ae",
   "metadata": {},
   "outputs": [],
   "source": [
    "class FourtyTwoForm(Form):\n",
    "    num = IntegerField('Number')\n",
    "\n",
    "    def validate_num(form, field):\n",
    "        if field.data != 42:\n",
    "            raise ValidationError('Must be 42')"
   ]
  },
  {
   "cell_type": "markdown",
   "id": "25a7cabb-0a7a-4185-910b-0c3243c60154",
   "metadata": {},
   "source": [
    "For more complex validators that take parameters, check the Custom validators section."
   ]
  },
  {
   "cell_type": "code",
   "execution_count": null,
   "id": "fb81f709-0793-4fd3-9f09-a63150369fa2",
   "metadata": {},
   "outputs": [],
   "source": []
  },
  {
   "cell_type": "code",
   "execution_count": null,
   "id": "ddf82a29-e6d9-47b8-8292-c9b2f05d810b",
   "metadata": {},
   "outputs": [],
   "source": []
  }
 ],
 "metadata": {
  "kernelspec": {
   "display_name": "openplc3",
   "language": "python",
   "name": "openplc3"
  },
  "language_info": {
   "codemirror_mode": {
    "name": "ipython",
    "version": 3
   },
   "file_extension": ".py",
   "mimetype": "text/x-python",
   "name": "python",
   "nbconvert_exporter": "python",
   "pygments_lexer": "ipython3",
   "version": "3.8.10"
  }
 },
 "nbformat": 4,
 "nbformat_minor": 5
}
