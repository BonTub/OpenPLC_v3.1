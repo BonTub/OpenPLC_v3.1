{
 "cells": [
  {
   "cell_type": "code",
   "execution_count": 20,
   "id": "6c9d856f-c518-4c2a-9987-0581d4114b65",
   "metadata": {},
   "outputs": [],
   "source": [
    "from flask import Flask\n",
    "from flask import session\n",
    "from flask_session import Session\n",
    "from flask_sqlalchemy import SQLAlchemy\n",
    "from flask_bcrypt import Bcrypt\n",
    "from flask_migrate import Migrate\n",
    "from flask_login import(\n",
    "    UserMixin,\n",
    "    login_user,\n",
    "    LoginManager,\n",
    "    current_user,\n",
    "    logout_user,\n",
    "    login_required,\n",
    "    )\n"
   ]
  },
  {
   "cell_type": "code",
   "execution_count": 2,
   "id": "750101ee-a4ca-4a0d-a748-16ea3d7c2908",
   "metadata": {},
   "outputs": [],
   "source": [
    "login_manager = LoginManager()\n",
    "login_manager.session_protection = \"strong\"\n",
    "login_manager.login_view = \"login\"\n",
    "login_manager.login_message_category = \"info\"\n",
    "\n",
    "db = SQLAlchemy()\n",
    "migrate = Migrate()\n",
    "bcrypt = Bcrypt()"
   ]
  },
  {
   "cell_type": "code",
   "execution_count": 3,
   "id": "08b3e273-22cd-40db-bd73-d16c0348eea1",
   "metadata": {},
   "outputs": [],
   "source": [
    "def create_app():\n",
    "    app = Flask(__name__)\n",
    "    app.secret_key = 'secret-key'\n",
    "    # import os\n",
    "    # from os import urandom\n",
    "    # app.secret_key = str(os.urandom(16)) # disables the cookied headers from other/previous app instances\n",
    "    app.config['SQLALCHEMY_DATABASE_URI'] = \"sqlite:///database.db\"\n",
    "    app.config['SQLALCHEMY_TRACK_MODIFICATIONS'] = True\n",
    "    login_manager.init_app(app)\n",
    "    db.init_app(app)\n",
    "    migrate.init_app(app, db)\n",
    "\n",
    "    return app"
   ]
  },
  {
   "cell_type": "code",
   "execution_count": 4,
   "id": "cd64f456-46b8-4dd9-8799-0d1fe778199a",
   "metadata": {},
   "outputs": [],
   "source": [
    "app=create_app()\n",
    "# app = Flask('yourapplication')\n",
    "# app = Flask(__name__.split('.')[0])"
   ]
  },
  {
   "cell_type": "code",
   "execution_count": 5,
   "id": "9ca9dd0f-7667-4148-809a-57469f18c56c",
   "metadata": {},
   "outputs": [
    {
     "data": {
      "text/plain": [
       "\u001b[0;31mSignature:\u001b[0m      \u001b[0mapp\u001b[0m\u001b[0;34m(\u001b[0m\u001b[0menviron\u001b[0m\u001b[0;34m:\u001b[0m \u001b[0mdict\u001b[0m\u001b[0;34m,\u001b[0m \u001b[0mstart_response\u001b[0m\u001b[0;34m:\u001b[0m \u001b[0mCallable\u001b[0m\u001b[0;34m)\u001b[0m \u001b[0;34m->\u001b[0m \u001b[0mAny\u001b[0m\u001b[0;34m\u001b[0m\u001b[0;34m\u001b[0m\u001b[0m\n",
       "\u001b[0;31mType:\u001b[0m           Flask\n",
       "\u001b[0;31mString form:\u001b[0m    <Flask '__main__'>\n",
       "\u001b[0;31mFile:\u001b[0m           ~/OpenPLC_v3.1/webserver/.venv/lib/python3.8/site-packages/flask/app.py\n",
       "\u001b[0;31mDocstring:\u001b[0m     \n",
       "The flask object implements a WSGI application and acts as the central\n",
       "object.  It is passed the name of the module or package of the\n",
       "application.  Once it is created it will act as a central registry for\n",
       "the view functions, the URL rules, template configuration and much more.\n",
       "\n",
       "The name of the package is used to resolve resources from inside the\n",
       "package or the folder the module is contained in depending on if the\n",
       "package parameter resolves to an actual python package (a folder with\n",
       "an :file:`__init__.py` file inside) or a standard module (just a ``.py`` file).\n",
       "\n",
       "For more information about resource loading, see :func:`open_resource`.\n",
       "\n",
       "Usually you create a :class:`Flask` instance in your main module or\n",
       "in the :file:`__init__.py` file of your package like this::\n",
       "\n",
       "    from flask import Flask\n",
       "    app = Flask(__name__)\n",
       "\n",
       ".. admonition:: About the First Parameter\n",
       "\n",
       "    The idea of the first parameter is to give Flask an idea of what\n",
       "    belongs to your application.  This name is used to find resources\n",
       "    on the filesystem, can be used by extensions to improve debugging\n",
       "    information and a lot more.\n",
       "\n",
       "    So it's important what you provide there.  If you are using a single\n",
       "    module, `__name__` is always the correct value.  If you however are\n",
       "    using a package, it's usually recommended to hardcode the name of\n",
       "    your package there.\n",
       "\n",
       "    For example if your application is defined in :file:`yourapplication/app.py`\n",
       "    you should create it with one of the two versions below::\n",
       "\n",
       "        app = Flask('yourapplication')\n",
       "        app = Flask(__name__.split('.')[0])\n",
       "\n",
       "    Why is that?  The application will work even with `__name__`, thanks\n",
       "    to how resources are looked up.  However it will make debugging more\n",
       "    painful.  Certain extensions can make assumptions based on the\n",
       "    import name of your application.  For example the Flask-SQLAlchemy\n",
       "    extension will look for the code in your application that triggered\n",
       "    an SQL query in debug mode.  If the import name is not properly set\n",
       "    up, that debugging information is lost.  (For example it would only\n",
       "    pick up SQL queries in `yourapplication.app` and not\n",
       "    `yourapplication.views.frontend`)\n",
       "\n",
       ".. versionadded:: 0.7\n",
       "   The `static_url_path`, `static_folder`, and `template_folder`\n",
       "   parameters were added.\n",
       "\n",
       ".. versionadded:: 0.8\n",
       "   The `instance_path` and `instance_relative_config` parameters were\n",
       "   added.\n",
       "\n",
       ".. versionadded:: 0.11\n",
       "   The `root_path` parameter was added.\n",
       "\n",
       ".. versionadded:: 1.0\n",
       "   The ``host_matching`` and ``static_host`` parameters were added.\n",
       "\n",
       ".. versionadded:: 1.0\n",
       "   The ``subdomain_matching`` parameter was added. Subdomain\n",
       "   matching needs to be enabled manually now. Setting\n",
       "   :data:`SERVER_NAME` does not implicitly enable it.\n",
       "\n",
       ":param import_name: the name of the application package\n",
       ":param static_url_path: can be used to specify a different path for the\n",
       "                        static files on the web.  Defaults to the name\n",
       "                        of the `static_folder` folder.\n",
       ":param static_folder: The folder with static files that is served at\n",
       "    ``static_url_path``. Relative to the application ``root_path``\n",
       "    or an absolute path. Defaults to ``'static'``.\n",
       ":param static_host: the host to use when adding the static route.\n",
       "    Defaults to None. Required when using ``host_matching=True``\n",
       "    with a ``static_folder`` configured.\n",
       ":param host_matching: set ``url_map.host_matching`` attribute.\n",
       "    Defaults to False.\n",
       ":param subdomain_matching: consider the subdomain relative to\n",
       "    :data:`SERVER_NAME` when matching routes. Defaults to False.\n",
       ":param template_folder: the folder that contains the templates that should\n",
       "                        be used by the application.  Defaults to\n",
       "                        ``'templates'`` folder in the root path of the\n",
       "                        application.\n",
       ":param instance_path: An alternative instance path for the application.\n",
       "                      By default the folder ``'instance'`` next to the\n",
       "                      package or module is assumed to be the instance\n",
       "                      path.\n",
       ":param instance_relative_config: if set to ``True`` relative filenames\n",
       "                                 for loading the config are assumed to\n",
       "                                 be relative to the instance path instead\n",
       "                                 of the application root.\n",
       ":param root_path: The path to the root of the application files.\n",
       "    This should only be set manually when it can't be detected\n",
       "    automatically, such as for namespace packages.\n",
       "\u001b[0;31mCall docstring:\u001b[0m\n",
       "The WSGI server calls the Flask application object as the\n",
       "WSGI application. This calls :meth:`wsgi_app`, which can be\n",
       "wrapped to apply middleware.\n"
      ]
     },
     "metadata": {},
     "output_type": "display_data"
    }
   ],
   "source": [
    "app?"
   ]
  },
  {
   "cell_type": "code",
   "execution_count": 6,
   "id": "2070af07-9431-4894-9bf7-603b12e9d064",
   "metadata": {},
   "outputs": [
    {
     "data": {
      "text/plain": [
       "\u001b[0;31mType:\u001b[0m      LocalProxy\n",
       "\u001b[0;31mFile:\u001b[0m      /usr/lib/python3.8/functools.py\n",
       "\u001b[0;31mDocstring:\u001b[0m <no docstring>\n"
      ]
     },
     "metadata": {},
     "output_type": "display_data"
    }
   ],
   "source": [
    "session?"
   ]
  },
  {
   "cell_type": "code",
   "execution_count": 7,
   "id": "82adcfd6-a138-4826-b103-4645ace34c0d",
   "metadata": {},
   "outputs": [
    {
     "data": {
      "text/plain": [
       "\u001b[0;31mInit signature:\u001b[0m\n",
       "\u001b[0mFlask\u001b[0m\u001b[0;34m(\u001b[0m\u001b[0;34m\u001b[0m\n",
       "\u001b[0;34m\u001b[0m    \u001b[0mimport_name\u001b[0m\u001b[0;34m:\u001b[0m \u001b[0mstr\u001b[0m\u001b[0;34m,\u001b[0m\u001b[0;34m\u001b[0m\n",
       "\u001b[0;34m\u001b[0m    \u001b[0mstatic_url_path\u001b[0m\u001b[0;34m:\u001b[0m \u001b[0mUnion\u001b[0m\u001b[0;34m[\u001b[0m\u001b[0mstr\u001b[0m\u001b[0;34m,\u001b[0m \u001b[0mNoneType\u001b[0m\u001b[0;34m]\u001b[0m \u001b[0;34m=\u001b[0m \u001b[0;32mNone\u001b[0m\u001b[0;34m,\u001b[0m\u001b[0;34m\u001b[0m\n",
       "\u001b[0;34m\u001b[0m    \u001b[0mstatic_folder\u001b[0m\u001b[0;34m:\u001b[0m \u001b[0mUnion\u001b[0m\u001b[0;34m[\u001b[0m\u001b[0mstr\u001b[0m\u001b[0;34m,\u001b[0m \u001b[0mNoneType\u001b[0m\u001b[0;34m]\u001b[0m \u001b[0;34m=\u001b[0m \u001b[0;34m'static'\u001b[0m\u001b[0;34m,\u001b[0m\u001b[0;34m\u001b[0m\n",
       "\u001b[0;34m\u001b[0m    \u001b[0mstatic_host\u001b[0m\u001b[0;34m:\u001b[0m \u001b[0mUnion\u001b[0m\u001b[0;34m[\u001b[0m\u001b[0mstr\u001b[0m\u001b[0;34m,\u001b[0m \u001b[0mNoneType\u001b[0m\u001b[0;34m]\u001b[0m \u001b[0;34m=\u001b[0m \u001b[0;32mNone\u001b[0m\u001b[0;34m,\u001b[0m\u001b[0;34m\u001b[0m\n",
       "\u001b[0;34m\u001b[0m    \u001b[0mhost_matching\u001b[0m\u001b[0;34m:\u001b[0m \u001b[0mbool\u001b[0m \u001b[0;34m=\u001b[0m \u001b[0;32mFalse\u001b[0m\u001b[0;34m,\u001b[0m\u001b[0;34m\u001b[0m\n",
       "\u001b[0;34m\u001b[0m    \u001b[0msubdomain_matching\u001b[0m\u001b[0;34m:\u001b[0m \u001b[0mbool\u001b[0m \u001b[0;34m=\u001b[0m \u001b[0;32mFalse\u001b[0m\u001b[0;34m,\u001b[0m\u001b[0;34m\u001b[0m\n",
       "\u001b[0;34m\u001b[0m    \u001b[0mtemplate_folder\u001b[0m\u001b[0;34m:\u001b[0m \u001b[0mUnion\u001b[0m\u001b[0;34m[\u001b[0m\u001b[0mstr\u001b[0m\u001b[0;34m,\u001b[0m \u001b[0mNoneType\u001b[0m\u001b[0;34m]\u001b[0m \u001b[0;34m=\u001b[0m \u001b[0;34m'templates'\u001b[0m\u001b[0;34m,\u001b[0m\u001b[0;34m\u001b[0m\n",
       "\u001b[0;34m\u001b[0m    \u001b[0minstance_path\u001b[0m\u001b[0;34m:\u001b[0m \u001b[0mUnion\u001b[0m\u001b[0;34m[\u001b[0m\u001b[0mstr\u001b[0m\u001b[0;34m,\u001b[0m \u001b[0mNoneType\u001b[0m\u001b[0;34m]\u001b[0m \u001b[0;34m=\u001b[0m \u001b[0;32mNone\u001b[0m\u001b[0;34m,\u001b[0m\u001b[0;34m\u001b[0m\n",
       "\u001b[0;34m\u001b[0m    \u001b[0minstance_relative_config\u001b[0m\u001b[0;34m:\u001b[0m \u001b[0mbool\u001b[0m \u001b[0;34m=\u001b[0m \u001b[0;32mFalse\u001b[0m\u001b[0;34m,\u001b[0m\u001b[0;34m\u001b[0m\n",
       "\u001b[0;34m\u001b[0m    \u001b[0mroot_path\u001b[0m\u001b[0;34m:\u001b[0m \u001b[0mUnion\u001b[0m\u001b[0;34m[\u001b[0m\u001b[0mstr\u001b[0m\u001b[0;34m,\u001b[0m \u001b[0mNoneType\u001b[0m\u001b[0;34m]\u001b[0m \u001b[0;34m=\u001b[0m \u001b[0;32mNone\u001b[0m\u001b[0;34m,\u001b[0m\u001b[0;34m\u001b[0m\n",
       "\u001b[0;34m\u001b[0m\u001b[0;34m)\u001b[0m\u001b[0;34m\u001b[0m\u001b[0;34m\u001b[0m\u001b[0m\n",
       "\u001b[0;31mDocstring:\u001b[0m     \n",
       "The flask object implements a WSGI application and acts as the central\n",
       "object.  It is passed the name of the module or package of the\n",
       "application.  Once it is created it will act as a central registry for\n",
       "the view functions, the URL rules, template configuration and much more.\n",
       "\n",
       "The name of the package is used to resolve resources from inside the\n",
       "package or the folder the module is contained in depending on if the\n",
       "package parameter resolves to an actual python package (a folder with\n",
       "an :file:`__init__.py` file inside) or a standard module (just a ``.py`` file).\n",
       "\n",
       "For more information about resource loading, see :func:`open_resource`.\n",
       "\n",
       "Usually you create a :class:`Flask` instance in your main module or\n",
       "in the :file:`__init__.py` file of your package like this::\n",
       "\n",
       "    from flask import Flask\n",
       "    app = Flask(__name__)\n",
       "\n",
       ".. admonition:: About the First Parameter\n",
       "\n",
       "    The idea of the first parameter is to give Flask an idea of what\n",
       "    belongs to your application.  This name is used to find resources\n",
       "    on the filesystem, can be used by extensions to improve debugging\n",
       "    information and a lot more.\n",
       "\n",
       "    So it's important what you provide there.  If you are using a single\n",
       "    module, `__name__` is always the correct value.  If you however are\n",
       "    using a package, it's usually recommended to hardcode the name of\n",
       "    your package there.\n",
       "\n",
       "    For example if your application is defined in :file:`yourapplication/app.py`\n",
       "    you should create it with one of the two versions below::\n",
       "\n",
       "        app = Flask('yourapplication')\n",
       "        app = Flask(__name__.split('.')[0])\n",
       "\n",
       "    Why is that?  The application will work even with `__name__`, thanks\n",
       "    to how resources are looked up.  However it will make debugging more\n",
       "    painful.  Certain extensions can make assumptions based on the\n",
       "    import name of your application.  For example the Flask-SQLAlchemy\n",
       "    extension will look for the code in your application that triggered\n",
       "    an SQL query in debug mode.  If the import name is not properly set\n",
       "    up, that debugging information is lost.  (For example it would only\n",
       "    pick up SQL queries in `yourapplication.app` and not\n",
       "    `yourapplication.views.frontend`)\n",
       "\n",
       ".. versionadded:: 0.7\n",
       "   The `static_url_path`, `static_folder`, and `template_folder`\n",
       "   parameters were added.\n",
       "\n",
       ".. versionadded:: 0.8\n",
       "   The `instance_path` and `instance_relative_config` parameters were\n",
       "   added.\n",
       "\n",
       ".. versionadded:: 0.11\n",
       "   The `root_path` parameter was added.\n",
       "\n",
       ".. versionadded:: 1.0\n",
       "   The ``host_matching`` and ``static_host`` parameters were added.\n",
       "\n",
       ".. versionadded:: 1.0\n",
       "   The ``subdomain_matching`` parameter was added. Subdomain\n",
       "   matching needs to be enabled manually now. Setting\n",
       "   :data:`SERVER_NAME` does not implicitly enable it.\n",
       "\n",
       ":param import_name: the name of the application package\n",
       ":param static_url_path: can be used to specify a different path for the\n",
       "                        static files on the web.  Defaults to the name\n",
       "                        of the `static_folder` folder.\n",
       ":param static_folder: The folder with static files that is served at\n",
       "    ``static_url_path``. Relative to the application ``root_path``\n",
       "    or an absolute path. Defaults to ``'static'``.\n",
       ":param static_host: the host to use when adding the static route.\n",
       "    Defaults to None. Required when using ``host_matching=True``\n",
       "    with a ``static_folder`` configured.\n",
       ":param host_matching: set ``url_map.host_matching`` attribute.\n",
       "    Defaults to False.\n",
       ":param subdomain_matching: consider the subdomain relative to\n",
       "    :data:`SERVER_NAME` when matching routes. Defaults to False.\n",
       ":param template_folder: the folder that contains the templates that should\n",
       "                        be used by the application.  Defaults to\n",
       "                        ``'templates'`` folder in the root path of the\n",
       "                        application.\n",
       ":param instance_path: An alternative instance path for the application.\n",
       "                      By default the folder ``'instance'`` next to the\n",
       "                      package or module is assumed to be the instance\n",
       "                      path.\n",
       ":param instance_relative_config: if set to ``True`` relative filenames\n",
       "                                 for loading the config are assumed to\n",
       "                                 be relative to the instance path instead\n",
       "                                 of the application root.\n",
       ":param root_path: The path to the root of the application files.\n",
       "    This should only be set manually when it can't be detected\n",
       "    automatically, such as for namespace packages.\n",
       "\u001b[0;31mFile:\u001b[0m           ~/OpenPLC_v3.1/webserver/.venv/lib/python3.8/site-packages/flask/app.py\n",
       "\u001b[0;31mType:\u001b[0m           type\n",
       "\u001b[0;31mSubclasses:\u001b[0m     \n"
      ]
     },
     "metadata": {},
     "output_type": "display_data"
    }
   ],
   "source": [
    "Flask?"
   ]
  },
  {
   "cell_type": "raw",
   "id": "d852ad98-f54b-4802-86fe-0f788171a575",
   "metadata": {},
   "source": [
    "Bcrypt?"
   ]
  },
  {
   "cell_type": "code",
   "execution_count": 8,
   "id": "2b5397a1-c061-4b59-9101-4bf7809e03da",
   "metadata": {},
   "outputs": [
    {
     "data": {
      "text/plain": [
       "\u001b[0;31mSignature:\u001b[0m \u001b[0mlogin_user\u001b[0m\u001b[0;34m(\u001b[0m\u001b[0muser\u001b[0m\u001b[0;34m,\u001b[0m \u001b[0mremember\u001b[0m\u001b[0;34m=\u001b[0m\u001b[0;32mFalse\u001b[0m\u001b[0;34m,\u001b[0m \u001b[0mduration\u001b[0m\u001b[0;34m=\u001b[0m\u001b[0;32mNone\u001b[0m\u001b[0;34m,\u001b[0m \u001b[0mforce\u001b[0m\u001b[0;34m=\u001b[0m\u001b[0;32mFalse\u001b[0m\u001b[0;34m,\u001b[0m \u001b[0mfresh\u001b[0m\u001b[0;34m=\u001b[0m\u001b[0;32mTrue\u001b[0m\u001b[0;34m)\u001b[0m\u001b[0;34m\u001b[0m\u001b[0;34m\u001b[0m\u001b[0m\n",
       "\u001b[0;31mDocstring:\u001b[0m\n",
       "Logs a user in. You should pass the actual user object to this. If the\n",
       "user's `is_active` property is ``False``, they will not be logged in\n",
       "unless `force` is ``True``.\n",
       "\n",
       "This will return ``True`` if the log in attempt succeeds, and ``False`` if\n",
       "it fails (i.e. because the user is inactive).\n",
       "\n",
       ":param user: The user object to log in.\n",
       ":type user: object\n",
       ":param remember: Whether to remember the user after their session expires.\n",
       "    Defaults to ``False``.\n",
       ":type remember: bool\n",
       ":param duration: The amount of time before the remember cookie expires. If\n",
       "    ``None`` the value set in the settings is used. Defaults to ``None``.\n",
       ":type duration: :class:`datetime.timedelta`\n",
       ":param force: If the user is inactive, setting this to ``True`` will log\n",
       "    them in regardless. Defaults to ``False``.\n",
       ":type force: bool\n",
       ":param fresh: setting this to ``False`` will log in the user with a session\n",
       "    marked as not \"fresh\". Defaults to ``True``.\n",
       ":type fresh: bool\n",
       "\u001b[0;31mFile:\u001b[0m      ~/OpenPLC_v3.1/webserver/.venv/lib/python3.8/site-packages/flask_login/utils.py\n",
       "\u001b[0;31mType:\u001b[0m      function\n"
      ]
     },
     "metadata": {},
     "output_type": "display_data"
    }
   ],
   "source": [
    "login_user?"
   ]
  },
  {
   "cell_type": "code",
   "execution_count": 9,
   "id": "96d44366-e690-4c58-a210-83dafb8dc1a0",
   "metadata": {},
   "outputs": [
    {
     "data": {
      "text/plain": [
       "\u001b[0;31mInit signature:\u001b[0m \u001b[0mSession\u001b[0m\u001b[0;34m(\u001b[0m\u001b[0mapp\u001b[0m\u001b[0;34m=\u001b[0m\u001b[0;32mNone\u001b[0m\u001b[0;34m)\u001b[0m\u001b[0;34m\u001b[0m\u001b[0;34m\u001b[0m\u001b[0m\n",
       "\u001b[0;31mDocstring:\u001b[0m     \n",
       "This class is used to add Server-side Session to one or more Flask\n",
       "applications.\n",
       "\n",
       "There are two usage modes.  One is initialize the instance with a very\n",
       "specific Flask application::\n",
       "\n",
       "    app = Flask(__name__)\n",
       "    Session(app)\n",
       "\n",
       "The second possibility is to create the object once and configure the\n",
       "application later::\n",
       "\n",
       "    sess = Session()\n",
       "\n",
       "    def create_app():\n",
       "        app = Flask(__name__)\n",
       "        sess.init_app(app)\n",
       "        return app\n",
       "\n",
       "By default Flask-Session will use :class:`NullSessionInterface`, you\n",
       "really should configurate your app to use a different SessionInterface.\n",
       "\n",
       ".. note::\n",
       "\n",
       "    You can not use ``Session`` instance directly, what ``Session`` does\n",
       "    is just change the :attr:`~flask.Flask.session_interface` attribute on\n",
       "    your Flask applications.\n",
       "\u001b[0;31mFile:\u001b[0m           ~/OpenPLC_v3.1/webserver/.venv/lib/python3.8/site-packages/flask_session/__init__.py\n",
       "\u001b[0;31mType:\u001b[0m           type\n",
       "\u001b[0;31mSubclasses:\u001b[0m     \n"
      ]
     },
     "metadata": {},
     "output_type": "display_data"
    }
   ],
   "source": [
    "Session?"
   ]
  },
  {
   "cell_type": "code",
   "execution_count": 10,
   "id": "3b3c4a66-74dc-493c-b8e9-fc2ec963cd74",
   "metadata": {},
   "outputs": [
    {
     "data": {
      "text/plain": [
       "\u001b[0;31mType:\u001b[0m      LocalProxy\n",
       "\u001b[0;31mFile:\u001b[0m      /usr/lib/python3.8/functools.py\n",
       "\u001b[0;31mDocstring:\u001b[0m <no docstring>\n"
      ]
     },
     "metadata": {},
     "output_type": "display_data"
    }
   ],
   "source": [
    "?session"
   ]
  },
  {
   "cell_type": "code",
   "execution_count": 11,
   "id": "e1975a26-9979-4a70-980c-a17630a71d42",
   "metadata": {},
   "outputs": [
    {
     "data": {
      "text/plain": [
       "\u001b[0;31mInit signature:\u001b[0m \u001b[0mBcrypt\u001b[0m\u001b[0;34m(\u001b[0m\u001b[0mapp\u001b[0m\u001b[0;34m=\u001b[0m\u001b[0;32mNone\u001b[0m\u001b[0;34m)\u001b[0m\u001b[0;34m\u001b[0m\u001b[0;34m\u001b[0m\u001b[0m\n",
       "\u001b[0;31mDocstring:\u001b[0m     \n",
       "Bcrypt class container for password hashing and checking logic using \n",
       "bcrypt, of course. This class may be used to intialize your Flask app \n",
       "object. The purpose is to provide a simple interface for overriding \n",
       "Werkzeug's built-in password hashing utilities.\n",
       "\n",
       "Although such methods are not actually overriden, the API is intentionally \n",
       "made similar so that existing applications which make use of the previous \n",
       "hashing functions might be easily adapted to the stronger facility of \n",
       "bcrypt.\n",
       "\n",
       "To get started you will wrap your application's app object something like \n",
       "this::\n",
       "\n",
       "    app = Flask(__name__)\n",
       "    bcrypt = Bcrypt(app)\n",
       "\n",
       "Now the two primary utility methods are exposed via this object, `bcrypt`.\n",
       "So in the context of the application, important data, such as passwords, \n",
       "could be hashed using this syntax::\n",
       "\n",
       "    password = 'hunter2'\n",
       "    pw_hash = bcrypt.generate_password_hash(password)\n",
       "\n",
       "Once hashed, the value is irreversible. However in the case of validating \n",
       "logins a simple hashing of candidate password and subsequent comparison. \n",
       "Importantly a comparison should be done in constant time. This helps \n",
       "prevent timing attacks. A simple utility method is provided for this::\n",
       "\n",
       "    candidate = 'secret'\n",
       "    bcrypt.check_password_hash(pw_hash, candidate)\n",
       "\n",
       "If both the candidate and the existing password hash are a match \n",
       "`check_password_hash` returns True. Otherwise, it returns False.\n",
       "\n",
       ".. admonition:: Namespacing Issues \n",
       "\n",
       "    It's worth noting that if you use the format, `bcrypt = Bcrypt(app)` \n",
       "    you are effectively overriding the bcrypt module. Though it's unlikely \n",
       "    you would need to access the module outside of the scope of the \n",
       "    extension be aware that it's overriden.\n",
       "\n",
       "    Alternatively consider using a different name, such as `flask_bcrypt \n",
       "    = Bcrypt(app)` to prevent naming collisions.\n",
       "\n",
       "Additionally a configuration value for `BCRYPT_LOG_ROUNDS` may be set in \n",
       "the configuration of the Flask app. If none is provided this will \n",
       "internally be assigned to 12. (This value is used in determining the \n",
       "complexity of the encryption, see bcrypt for more details.)\n",
       "\n",
       ":param app: The Flask application object. Defaults to None.\n",
       "\u001b[0;31mFile:\u001b[0m           ~/OpenPLC_v3.1/webserver/.venv/lib/python3.8/site-packages/flask_bcrypt.py\n",
       "\u001b[0;31mType:\u001b[0m           type\n",
       "\u001b[0;31mSubclasses:\u001b[0m     \n"
      ]
     },
     "metadata": {},
     "output_type": "display_data"
    }
   ],
   "source": [
    "?Bcrypt"
   ]
  },
  {
   "cell_type": "code",
   "execution_count": 12,
   "id": "42bc2b5e-56d1-44d1-8686-0c027d6ca592",
   "metadata": {},
   "outputs": [
    {
     "data": {
      "text/plain": [
       "\u001b[0;31mSignature:\u001b[0m \u001b[0mcreate_app\u001b[0m\u001b[0;34m(\u001b[0m\u001b[0;34m)\u001b[0m\u001b[0;34m\u001b[0m\u001b[0;34m\u001b[0m\u001b[0m\n",
       "\u001b[0;31mDocstring:\u001b[0m <no docstring>\n",
       "\u001b[0;31mFile:\u001b[0m      /tmp/ipykernel_32541/366999424.py\n",
       "\u001b[0;31mType:\u001b[0m      function\n"
      ]
     },
     "metadata": {},
     "output_type": "display_data"
    }
   ],
   "source": [
    "?create_app"
   ]
  },
  {
   "cell_type": "code",
   "execution_count": 13,
   "id": "4fbc1720-2043-4d6e-ba09-f19ef9a384cf",
   "metadata": {},
   "outputs": [
    {
     "data": {
      "text/plain": [
       "\u001b[0;31mInit signature:\u001b[0m\n",
       "\u001b[0mFlask\u001b[0m\u001b[0;34m(\u001b[0m\u001b[0;34m\u001b[0m\n",
       "\u001b[0;34m\u001b[0m    \u001b[0mimport_name\u001b[0m\u001b[0;34m:\u001b[0m \u001b[0mstr\u001b[0m\u001b[0;34m,\u001b[0m\u001b[0;34m\u001b[0m\n",
       "\u001b[0;34m\u001b[0m    \u001b[0mstatic_url_path\u001b[0m\u001b[0;34m:\u001b[0m \u001b[0mUnion\u001b[0m\u001b[0;34m[\u001b[0m\u001b[0mstr\u001b[0m\u001b[0;34m,\u001b[0m \u001b[0mNoneType\u001b[0m\u001b[0;34m]\u001b[0m \u001b[0;34m=\u001b[0m \u001b[0;32mNone\u001b[0m\u001b[0;34m,\u001b[0m\u001b[0;34m\u001b[0m\n",
       "\u001b[0;34m\u001b[0m    \u001b[0mstatic_folder\u001b[0m\u001b[0;34m:\u001b[0m \u001b[0mUnion\u001b[0m\u001b[0;34m[\u001b[0m\u001b[0mstr\u001b[0m\u001b[0;34m,\u001b[0m \u001b[0mNoneType\u001b[0m\u001b[0;34m]\u001b[0m \u001b[0;34m=\u001b[0m \u001b[0;34m'static'\u001b[0m\u001b[0;34m,\u001b[0m\u001b[0;34m\u001b[0m\n",
       "\u001b[0;34m\u001b[0m    \u001b[0mstatic_host\u001b[0m\u001b[0;34m:\u001b[0m \u001b[0mUnion\u001b[0m\u001b[0;34m[\u001b[0m\u001b[0mstr\u001b[0m\u001b[0;34m,\u001b[0m \u001b[0mNoneType\u001b[0m\u001b[0;34m]\u001b[0m \u001b[0;34m=\u001b[0m \u001b[0;32mNone\u001b[0m\u001b[0;34m,\u001b[0m\u001b[0;34m\u001b[0m\n",
       "\u001b[0;34m\u001b[0m    \u001b[0mhost_matching\u001b[0m\u001b[0;34m:\u001b[0m \u001b[0mbool\u001b[0m \u001b[0;34m=\u001b[0m \u001b[0;32mFalse\u001b[0m\u001b[0;34m,\u001b[0m\u001b[0;34m\u001b[0m\n",
       "\u001b[0;34m\u001b[0m    \u001b[0msubdomain_matching\u001b[0m\u001b[0;34m:\u001b[0m \u001b[0mbool\u001b[0m \u001b[0;34m=\u001b[0m \u001b[0;32mFalse\u001b[0m\u001b[0;34m,\u001b[0m\u001b[0;34m\u001b[0m\n",
       "\u001b[0;34m\u001b[0m    \u001b[0mtemplate_folder\u001b[0m\u001b[0;34m:\u001b[0m \u001b[0mUnion\u001b[0m\u001b[0;34m[\u001b[0m\u001b[0mstr\u001b[0m\u001b[0;34m,\u001b[0m \u001b[0mNoneType\u001b[0m\u001b[0;34m]\u001b[0m \u001b[0;34m=\u001b[0m \u001b[0;34m'templates'\u001b[0m\u001b[0;34m,\u001b[0m\u001b[0;34m\u001b[0m\n",
       "\u001b[0;34m\u001b[0m    \u001b[0minstance_path\u001b[0m\u001b[0;34m:\u001b[0m \u001b[0mUnion\u001b[0m\u001b[0;34m[\u001b[0m\u001b[0mstr\u001b[0m\u001b[0;34m,\u001b[0m \u001b[0mNoneType\u001b[0m\u001b[0;34m]\u001b[0m \u001b[0;34m=\u001b[0m \u001b[0;32mNone\u001b[0m\u001b[0;34m,\u001b[0m\u001b[0;34m\u001b[0m\n",
       "\u001b[0;34m\u001b[0m    \u001b[0minstance_relative_config\u001b[0m\u001b[0;34m:\u001b[0m \u001b[0mbool\u001b[0m \u001b[0;34m=\u001b[0m \u001b[0;32mFalse\u001b[0m\u001b[0;34m,\u001b[0m\u001b[0;34m\u001b[0m\n",
       "\u001b[0;34m\u001b[0m    \u001b[0mroot_path\u001b[0m\u001b[0;34m:\u001b[0m \u001b[0mUnion\u001b[0m\u001b[0;34m[\u001b[0m\u001b[0mstr\u001b[0m\u001b[0;34m,\u001b[0m \u001b[0mNoneType\u001b[0m\u001b[0;34m]\u001b[0m \u001b[0;34m=\u001b[0m \u001b[0;32mNone\u001b[0m\u001b[0;34m,\u001b[0m\u001b[0;34m\u001b[0m\n",
       "\u001b[0;34m\u001b[0m\u001b[0;34m)\u001b[0m\u001b[0;34m\u001b[0m\u001b[0;34m\u001b[0m\u001b[0m\n",
       "\u001b[0;31mDocstring:\u001b[0m     \n",
       "The flask object implements a WSGI application and acts as the central\n",
       "object.  It is passed the name of the module or package of the\n",
       "application.  Once it is created it will act as a central registry for\n",
       "the view functions, the URL rules, template configuration and much more.\n",
       "\n",
       "The name of the package is used to resolve resources from inside the\n",
       "package or the folder the module is contained in depending on if the\n",
       "package parameter resolves to an actual python package (a folder with\n",
       "an :file:`__init__.py` file inside) or a standard module (just a ``.py`` file).\n",
       "\n",
       "For more information about resource loading, see :func:`open_resource`.\n",
       "\n",
       "Usually you create a :class:`Flask` instance in your main module or\n",
       "in the :file:`__init__.py` file of your package like this::\n",
       "\n",
       "    from flask import Flask\n",
       "    app = Flask(__name__)\n",
       "\n",
       ".. admonition:: About the First Parameter\n",
       "\n",
       "    The idea of the first parameter is to give Flask an idea of what\n",
       "    belongs to your application.  This name is used to find resources\n",
       "    on the filesystem, can be used by extensions to improve debugging\n",
       "    information and a lot more.\n",
       "\n",
       "    So it's important what you provide there.  If you are using a single\n",
       "    module, `__name__` is always the correct value.  If you however are\n",
       "    using a package, it's usually recommended to hardcode the name of\n",
       "    your package there.\n",
       "\n",
       "    For example if your application is defined in :file:`yourapplication/app.py`\n",
       "    you should create it with one of the two versions below::\n",
       "\n",
       "        app = Flask('yourapplication')\n",
       "        app = Flask(__name__.split('.')[0])\n",
       "\n",
       "    Why is that?  The application will work even with `__name__`, thanks\n",
       "    to how resources are looked up.  However it will make debugging more\n",
       "    painful.  Certain extensions can make assumptions based on the\n",
       "    import name of your application.  For example the Flask-SQLAlchemy\n",
       "    extension will look for the code in your application that triggered\n",
       "    an SQL query in debug mode.  If the import name is not properly set\n",
       "    up, that debugging information is lost.  (For example it would only\n",
       "    pick up SQL queries in `yourapplication.app` and not\n",
       "    `yourapplication.views.frontend`)\n",
       "\n",
       ".. versionadded:: 0.7\n",
       "   The `static_url_path`, `static_folder`, and `template_folder`\n",
       "   parameters were added.\n",
       "\n",
       ".. versionadded:: 0.8\n",
       "   The `instance_path` and `instance_relative_config` parameters were\n",
       "   added.\n",
       "\n",
       ".. versionadded:: 0.11\n",
       "   The `root_path` parameter was added.\n",
       "\n",
       ".. versionadded:: 1.0\n",
       "   The ``host_matching`` and ``static_host`` parameters were added.\n",
       "\n",
       ".. versionadded:: 1.0\n",
       "   The ``subdomain_matching`` parameter was added. Subdomain\n",
       "   matching needs to be enabled manually now. Setting\n",
       "   :data:`SERVER_NAME` does not implicitly enable it.\n",
       "\n",
       ":param import_name: the name of the application package\n",
       ":param static_url_path: can be used to specify a different path for the\n",
       "                        static files on the web.  Defaults to the name\n",
       "                        of the `static_folder` folder.\n",
       ":param static_folder: The folder with static files that is served at\n",
       "    ``static_url_path``. Relative to the application ``root_path``\n",
       "    or an absolute path. Defaults to ``'static'``.\n",
       ":param static_host: the host to use when adding the static route.\n",
       "    Defaults to None. Required when using ``host_matching=True``\n",
       "    with a ``static_folder`` configured.\n",
       ":param host_matching: set ``url_map.host_matching`` attribute.\n",
       "    Defaults to False.\n",
       ":param subdomain_matching: consider the subdomain relative to\n",
       "    :data:`SERVER_NAME` when matching routes. Defaults to False.\n",
       ":param template_folder: the folder that contains the templates that should\n",
       "                        be used by the application.  Defaults to\n",
       "                        ``'templates'`` folder in the root path of the\n",
       "                        application.\n",
       ":param instance_path: An alternative instance path for the application.\n",
       "                      By default the folder ``'instance'`` next to the\n",
       "                      package or module is assumed to be the instance\n",
       "                      path.\n",
       ":param instance_relative_config: if set to ``True`` relative filenames\n",
       "                                 for loading the config are assumed to\n",
       "                                 be relative to the instance path instead\n",
       "                                 of the application root.\n",
       ":param root_path: The path to the root of the application files.\n",
       "    This should only be set manually when it can't be detected\n",
       "    automatically, such as for namespace packages.\n",
       "\u001b[0;31mFile:\u001b[0m           ~/OpenPLC_v3.1/webserver/.venv/lib/python3.8/site-packages/flask/app.py\n",
       "\u001b[0;31mType:\u001b[0m           type\n",
       "\u001b[0;31mSubclasses:\u001b[0m     \n"
      ]
     },
     "metadata": {},
     "output_type": "display_data"
    }
   ],
   "source": [
    "?Flask"
   ]
  },
  {
   "cell_type": "code",
   "execution_count": 14,
   "id": "1959fe34-a54c-4476-b6e6-8fbbc62a245e",
   "metadata": {},
   "outputs": [
    {
     "data": {
      "text/plain": [
       "\u001b[0;31mSignature:\u001b[0m      \u001b[0mdb\u001b[0m\u001b[0;34m.\u001b[0m\u001b[0msession\u001b[0m\u001b[0;34m(\u001b[0m\u001b[0;34m**\u001b[0m\u001b[0mkw\u001b[0m\u001b[0;34m)\u001b[0m\u001b[0;34m\u001b[0m\u001b[0;34m\u001b[0m\u001b[0m\n",
       "\u001b[0;31mType:\u001b[0m           scoped_session\n",
       "\u001b[0;31mString form:\u001b[0m    <sqlalchemy.orm.scoping.scoped_session object at 0x7fea1c868250>\n",
       "\u001b[0;31mFile:\u001b[0m           ~/OpenPLC_v3.1/webserver/.venv/lib/python3.8/site-packages/sqlalchemy/orm/scoping.py\n",
       "\u001b[0;31mDocstring:\u001b[0m     \n",
       "Provides scoped management of :class:`.Session` objects.\n",
       "\n",
       "See :ref:`unitofwork_contextual` for a tutorial.\n",
       "\u001b[0;31mInit docstring:\u001b[0m\n",
       "Construct a new :class:`.scoped_session`.\n",
       "\n",
       ":param session_factory: a factory to create new :class:`.Session`\n",
       " instances. This is usually, but not necessarily, an instance\n",
       " of :class:`.sessionmaker`.\n",
       ":param scopefunc: optional function which defines\n",
       " the current scope.   If not passed, the :class:`.scoped_session`\n",
       " object assumes \"thread-local\" scope, and will use\n",
       " a Python ``threading.local()`` in order to maintain the current\n",
       " :class:`.Session`.  If passed, the function should return\n",
       " a hashable token; this token will be used as the key in a\n",
       " dictionary in order to store and retrieve the current\n",
       " :class:`.Session`.\n",
       "\u001b[0;31mCall docstring:\u001b[0m\n",
       "Return the current :class:`.Session`, creating it\n",
       "using the :attr:`.scoped_session.session_factory` if not present.\n",
       "\n",
       ":param \\**kw: Keyword arguments will be passed to the\n",
       " :attr:`.scoped_session.session_factory` callable, if an existing\n",
       " :class:`.Session` is not present.  If the :class:`.Session` is present\n",
       " and keyword arguments have been passed,\n",
       " :exc:`~sqlalchemy.exc.InvalidRequestError` is raised.\n"
      ]
     },
     "metadata": {},
     "output_type": "display_data"
    }
   ],
   "source": [
    "?db.session"
   ]
  },
  {
   "cell_type": "code",
   "execution_count": 15,
   "id": "25ebed02-25b4-4657-88fd-10fdc571957e",
   "metadata": {},
   "outputs": [
    {
     "ename": "TypeError",
     "evalue": "'str' object is not callable",
     "output_type": "error",
     "traceback": [
      "\u001b[0;31m---------------------------------------------------------------------------\u001b[0m",
      "\u001b[0;31mTypeError\u001b[0m                                 Traceback (most recent call last)",
      "Input \u001b[0;32mIn [15]\u001b[0m, in \u001b[0;36m<cell line: 1>\u001b[0;34m()\u001b[0m\n\u001b[0;32m----> 1\u001b[0m \u001b[43m_\u001b[49m\u001b[43m(\u001b[49m\u001b[43m \u001b[49m\u001b[38;5;124;43m'\u001b[39;49m\u001b[38;5;124;43mwimpie\u001b[39;49m\u001b[38;5;124;43m'\u001b[39;49m\u001b[43m)\u001b[49m\n",
      "\u001b[0;31mTypeError\u001b[0m: 'str' object is not callable"
     ]
    }
   ],
   "source": [
    "_( 'wimpie')"
   ]
  },
  {
   "cell_type": "code",
   "execution_count": 16,
   "id": "0ac90838-8f2e-4e02-b8b5-150a3705a669",
   "metadata": {},
   "outputs": [
    {
     "data": {
      "text/plain": [
       "\u001b[0;31mType:\u001b[0m        str\n",
       "\u001b[0;31mString form:\u001b[0m \n",
       "\u001b[0;31mLength:\u001b[0m      0\n",
       "\u001b[0;31mDocstring:\u001b[0m  \n",
       "str(object='') -> str\n",
       "str(bytes_or_buffer[, encoding[, errors]]) -> str\n",
       "\n",
       "Create a new string object from the given object. If encoding or\n",
       "errors is specified, then the object must expose a data buffer\n",
       "that will be decoded using the given encoding and error handler.\n",
       "Otherwise, returns the result of object.__str__() (if defined)\n",
       "or repr(object).\n",
       "encoding defaults to sys.getdefaultencoding().\n",
       "errors defaults to 'strict'.\n"
      ]
     },
     "metadata": {},
     "output_type": "display_data"
    }
   ],
   "source": [
    "_?"
   ]
  },
  {
   "cell_type": "code",
   "execution_count": 17,
   "id": "6355d2e4-e632-48f5-b07d-e610927cacc3",
   "metadata": {},
   "outputs": [
    {
     "data": {
      "text/plain": [
       "\u001b[0;31mType:\u001b[0m        str\n",
       "\u001b[0;31mString form:\u001b[0m \n",
       "\u001b[0;31mLength:\u001b[0m      0\n",
       "\u001b[0;31mDocstring:\u001b[0m  \n",
       "str(object='') -> str\n",
       "str(bytes_or_buffer[, encoding[, errors]]) -> str\n",
       "\n",
       "Create a new string object from the given object. If encoding or\n",
       "errors is specified, then the object must expose a data buffer\n",
       "that will be decoded using the given encoding and error handler.\n",
       "Otherwise, returns the result of object.__str__() (if defined)\n",
       "or repr(object).\n",
       "encoding defaults to sys.getdefaultencoding().\n",
       "errors defaults to 'strict'.\n"
      ]
     },
     "metadata": {},
     "output_type": "display_data"
    }
   ],
   "source": [
    "?_"
   ]
  },
  {
   "cell_type": "code",
   "execution_count": 19,
   "id": "500c0311-d482-443f-8eeb-2df17500e25b",
   "metadata": {},
   "outputs": [
    {
     "data": {
      "text/plain": [
       "'utf-8'"
      ]
     },
     "execution_count": 19,
     "metadata": {},
     "output_type": "execute_result"
    }
   ],
   "source": [
    "import sys\n",
    "sys.getdefaultencoding()"
   ]
  },
  {
   "cell_type": "code",
   "execution_count": null,
   "id": "dd8a6c46-2b3d-41b1-ab46-fe60d1088c7e",
   "metadata": {},
   "outputs": [],
   "source": []
  }
 ],
 "metadata": {
  "kernelspec": {
   "display_name": "openplc3",
   "language": "python",
   "name": "openplc3"
  },
  "language_info": {
   "codemirror_mode": {
    "name": "ipython",
    "version": 3
   },
   "file_extension": ".py",
   "mimetype": "text/x-python",
   "name": "python",
   "nbconvert_exporter": "python",
   "pygments_lexer": "ipython3",
   "version": "3.8.10"
  }
 },
 "nbformat": 4,
 "nbformat_minor": 5
}
